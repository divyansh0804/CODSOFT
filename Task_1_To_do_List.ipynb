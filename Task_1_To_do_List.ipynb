{
  "nbformat": 4,
  "nbformat_minor": 0,
  "metadata": {
    "colab": {
      "provenance": [],
      "authorship_tag": "ABX9TyOgPYBdpYen0JTBO5uZMKW9",
      "include_colab_link": true
    },
    "kernelspec": {
      "name": "python3",
      "display_name": "Python 3"
    },
    "language_info": {
      "name": "python"
    }
  },
  "cells": [
    {
      "cell_type": "markdown",
      "metadata": {
        "id": "view-in-github",
        "colab_type": "text"
      },
      "source": [
        "<a href=\"https://colab.research.google.com/github/divyansh0804/CODSOFT/blob/main/Task_1_To_do_List.ipynb\" target=\"_parent\"><img src=\"https://colab.research.google.com/assets/colab-badge.svg\" alt=\"Open In Colab\"/></a>"
      ]
    },
    {
      "cell_type": "code",
      "source": [
        "import json\n",
        "import os\n",
        "\n",
        "# Define the filename to store the To-Do list\n",
        "TODO_FILE = \"todo_list.json\"\n",
        "\n",
        "def load_todo_list():\n",
        "    \"\"\"Load the To-Do list from a JSON file.\"\"\"\n",
        "    if os.path.exists(TODO_FILE):\n",
        "        with open(TODO_FILE, \"r\") as f:\n",
        "            return json.load(f)\n",
        "    return []\n",
        "\n",
        "def save_todo_list(todo_list):\n",
        "    \"\"\"Save the To-Do list to a JSON file.\"\"\"\n",
        "    with open(TODO_FILE, \"w\") as f:\n",
        "        json.dump(todo_list, f, indent=4)\n",
        "\n",
        "def display_todo_list(todo_list):\n",
        "    \"\"\"Display the To-Do list.\"\"\"\n",
        "    if todo_list:\n",
        "        print(\"To-Do List:\")\n",
        "        for idx, task in enumerate(todo_list, 1):\n",
        "            print(f\"{idx}. {task['task']} - {task['description']} - Due: {task['due_date']}\")\n",
        "    else:\n",
        "        print(\"To-Do List is empty.\")\n",
        "\n",
        "def add_task(todo_list):\n",
        "    \"\"\"Add a new task to the To-Do list.\"\"\"\n",
        "    task = {}\n",
        "    task['task'] = input(\"Enter task name: \")\n",
        "    task['description'] = input(\"Enter task description: \")\n",
        "    task['due_date'] = input(\"Enter due date: \")\n",
        "    todo_list.append(task)\n",
        "    save_todo_list(todo_list)\n",
        "    print(\"Task added successfully.\")\n",
        "\n",
        "def remove_task(todo_list):\n",
        "    \"\"\"Remove a task from the To-Do list.\"\"\"\n",
        "    display_todo_list(todo_list)\n",
        "    try:\n",
        "        index = int(input(\"Enter the index of the task to remove: \")) - 1\n",
        "        if 0 <= index < len(todo_list):\n",
        "            del todo_list[index]\n",
        "            save_todo_list(todo_list)\n",
        "            print(\"Task removed successfully.\")\n",
        "        else:\n",
        "            print(\"Invalid index.\")\n",
        "    except ValueError:\n",
        "        print(\"Invalid input. Please enter a number.\")\n",
        "\n",
        "def main():\n",
        "    \"\"\"Main function to run the To-Do list application.\"\"\"\n",
        "    todo_list = load_todo_list()\n",
        "\n",
        "    while True:\n",
        "        print(\"\\n1. Display To-Do List\")\n",
        "        print(\"2. Add Task\")\n",
        "        print(\"3. Remove Task\")\n",
        "        print(\"4. Quit\")\n",
        "        choice = input(\"Enter your choice: \")\n",
        "\n",
        "        if choice == '1':\n",
        "            display_todo_list(todo_list)\n",
        "        elif choice == '2':\n",
        "            add_task(todo_list)\n",
        "        elif choice == '3':\n",
        "            remove_task(todo_list)\n",
        "        elif choice == '4':\n",
        "            print(\"Goodbye!\")\n",
        "            break\n",
        "        else:\n",
        "            print(\"Invalid choice. Please try again.\")\n",
        "\n",
        "if __name__ == \"__main__\":\n",
        "    main()\n"
      ],
      "metadata": {
        "colab": {
          "base_uri": "https://localhost:8080/"
        },
        "id": "94lD6SH9emeH",
        "outputId": "3f5f5d73-ac01-4a8a-9ac8-7c0d880440e5"
      },
      "execution_count": 4,
      "outputs": [
        {
          "output_type": "stream",
          "name": "stdout",
          "text": [
            "\n",
            "1. Display To-Do List\n",
            "2. Add Task\n",
            "3. Remove Task\n",
            "4. Quit\n",
            "Enter your choice: 2\n",
            "Enter task name: abc\n",
            "Enter task description: xyz\n",
            "Enter due date: 15/02/2024\n",
            "Task added successfully.\n",
            "\n",
            "1. Display To-Do List\n",
            "2. Add Task\n",
            "3. Remove Task\n",
            "4. Quit\n",
            "Enter your choice: 1\n",
            "To-Do List:\n",
            "1. abc - xyz - Due: 15/02/2024\n",
            "\n",
            "1. Display To-Do List\n",
            "2. Add Task\n",
            "3. Remove Task\n",
            "4. Quit\n",
            "Enter your choice: 3\n",
            "To-Do List:\n",
            "1. abc - xyz - Due: 15/02/2024\n",
            "Enter the index of the task to remove: 1\n",
            "Task removed successfully.\n",
            "\n",
            "1. Display To-Do List\n",
            "2. Add Task\n",
            "3. Remove Task\n",
            "4. Quit\n",
            "Enter your choice: 4\n",
            "Goodbye!\n"
          ]
        }
      ]
    }
  ]
}