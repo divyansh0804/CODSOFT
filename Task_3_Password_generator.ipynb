{
  "nbformat": 4,
  "nbformat_minor": 0,
  "metadata": {
    "colab": {
      "provenance": [],
      "authorship_tag": "ABX9TyMjLJTVY1SCneoJFJzWpzEz",
      "include_colab_link": true
    },
    "kernelspec": {
      "name": "python3",
      "display_name": "Python 3"
    },
    "language_info": {
      "name": "python"
    }
  },
  "cells": [
    {
      "cell_type": "markdown",
      "metadata": {
        "id": "view-in-github",
        "colab_type": "text"
      },
      "source": [
        "<a href=\"https://colab.research.google.com/github/divyansh0804/CODSOFT/blob/main/Task_3_Password_generator.ipynb\" target=\"_parent\"><img src=\"https://colab.research.google.com/assets/colab-badge.svg\" alt=\"Open In Colab\"/></a>"
      ]
    },
    {
      "cell_type": "code",
      "execution_count": 1,
      "metadata": {
        "colab": {
          "base_uri": "https://localhost:8080/",
          "height": 64
        },
        "id": "6J3xOh0LSGCY",
        "outputId": "d85825d0-0cc3-4459-ccb7-70c4f1b2c2df"
      },
      "outputs": [
        {
          "name": "stdout",
          "output_type": "stream",
          "text": [
            "Enter the desired password length: 9\n"
          ]
        },
        {
          "output_type": "display_data",
          "data": {
            "text/plain": [
              "<IPython.core.display.HTML object>"
            ],
            "text/html": [
              "<p style='font-family:monospace'>Generated Password: <strong>*7@\"Xj_<;</strong></p>"
            ]
          },
          "metadata": {}
        }
      ],
      "source": [
        "import random\n",
        "import string\n",
        "def generate_password(length):\n",
        "    lower_case = string.ascii_lowercase\n",
        "    upper_case = string.ascii_uppercase\n",
        "    digits = string.digits\n",
        "    special_characters = string.punctuation\n",
        "    all_characters = lower_case + upper_case + digits + special_characters\n",
        "    length = max(length, 8)\n",
        "    password = ''.join(random.choice(all_characters) for _ in range(length))\n",
        "    return password\n",
        "\n",
        "def display_password(password):\n",
        "    from IPython.display import display, HTML\n",
        "    display(HTML(f\"<p style='font-family:monospace'>Generated Password: <strong>{password}</strong></p>\"))\n",
        "\n",
        "def main():\n",
        "    password_length = int(input(\"Enter the desired password length: \"))\n",
        "    password = generate_password(password_length)\n",
        "    display_password(password)\n",
        "if __name__ == \"__main__\":\n",
        "    main()\n"
      ]
    }
  ]
}